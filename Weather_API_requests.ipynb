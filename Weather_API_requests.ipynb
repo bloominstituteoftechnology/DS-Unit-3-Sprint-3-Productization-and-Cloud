{
  "nbformat": 4,
  "nbformat_minor": 0,
  "metadata": {
    "colab": {
      "name": "Weather API requests.ipynb",
      "version": "0.3.2",
      "provenance": [],
      "include_colab_link": true
    },
    "kernelspec": {
      "name": "python3",
      "display_name": "Python 3"
    }
  },
  "cells": [
    {
      "cell_type": "markdown",
      "metadata": {
        "id": "view-in-github",
        "colab_type": "text"
      },
      "source": [
        "<a href=\"https://colab.research.google.com/github/JefNtungila/DS-Unit-3-Sprint-3-Productization-and-Cloud/blob/master/Weather_API_requests.ipynb\" target=\"_parent\"><img src=\"https://colab.research.google.com/assets/colab-badge.svg\" alt=\"Open In Colab\"/></a>"
      ]
    },
    {
      "cell_type": "code",
      "metadata": {
        "id": "FMWC8kqv2AK_",
        "colab_type": "code",
        "colab": {}
      },
      "source": [
        "import requests as rq\n",
        "import json\n",
        "import datetime\n",
        "import pytz"
      ],
      "execution_count": 0,
      "outputs": []
    },
    {
      "cell_type": "code",
      "metadata": {
        "id": "VJggGQVL8A0V",
        "colab_type": "code",
        "colab": {}
      },
      "source": [
        "response = rq.get('http://www.weatherbit.io/v2.0/forecast/hourly?lat=51.8787&lon=0.4200&key=43255cde4ff34e9cab75d9bf34cb1281')"
      ],
      "execution_count": 0,
      "outputs": []
    },
    {
      "cell_type": "code",
      "metadata": {
        "id": "W6OZFTyEL5p6",
        "colab_type": "code",
        "colab": {
          "base_uri": "https://localhost:8080/",
          "height": 34
        },
        "outputId": "6c345467-0987-4f2b-8e0c-da1739ab274c"
      },
      "source": [
        "print(response.status_code)"
      ],
      "execution_count": 4,
      "outputs": [
        {
          "output_type": "stream",
          "text": [
            "200\n"
          ],
          "name": "stdout"
        }
      ]
    }
  ]
}