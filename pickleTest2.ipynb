{
  "nbformat": 4,
  "nbformat_minor": 0,
  "metadata": {
    "colab": {
      "name": "pickleTest2.ipynb",
      "version": "0.3.2",
      "provenance": [],
      "collapsed_sections": [],
      "include_colab_link": true
    },
    "kernelspec": {
      "name": "python3",
      "display_name": "Python 3"
    }
  },
  "cells": [
    {
      "cell_type": "markdown",
      "metadata": {
        "id": "view-in-github",
        "colab_type": "text"
      },
      "source": [
        "<a href=\"https://colab.research.google.com/github/AkiBae4891/DS-Unit-3-Sprint-3-Productization-and-Cloud/blob/master/pickleTest2.ipynb\" target=\"_parent\"><img src=\"https://colab.research.google.com/assets/colab-badge.svg\" alt=\"Open In Colab\"/></a>"
      ]
    },
    {
      "cell_type": "markdown",
      "metadata": {
        "id": "CSXO2J3mDlQq",
        "colab_type": "text"
      },
      "source": [
        "# This is the Pickle process"
      ]
    },
    {
      "cell_type": "code",
      "metadata": {
        "id": "pGMCFc-bCdSc",
        "colab_type": "code",
        "colab": {}
      },
      "source": [
        "import pickle "
      ],
      "execution_count": 0,
      "outputs": []
    },
    {
      "cell_type": "code",
      "metadata": {
        "id": "wYxZITj2CnQd",
        "colab_type": "code",
        "colab": {}
      },
      "source": [
        "numbers_list = [1,2,3,4,5] # could be a model "
      ],
      "execution_count": 0,
      "outputs": []
    },
    {
      "cell_type": "code",
      "metadata": {
        "id": "IyJCqGfFCwEn",
        "colab_type": "code",
        "colab": {}
      },
      "source": [
        "list_pickle_path = 'list_pickle2.pkl'"
      ],
      "execution_count": 0,
      "outputs": []
    },
    {
      "cell_type": "code",
      "metadata": {
        "id": "1BeAT6ACDBHi",
        "colab_type": "code",
        "colab": {}
      },
      "source": [
        "list_pickle = open(list_pickle_path, 'wb')"
      ],
      "execution_count": 0,
      "outputs": []
    },
    {
      "cell_type": "code",
      "metadata": {
        "id": "Nn2z41CbDRZs",
        "colab_type": "code",
        "colab": {}
      },
      "source": [
        "pickle.dump(numbers_list, list_pickle)"
      ],
      "execution_count": 0,
      "outputs": []
    },
    {
      "cell_type": "code",
      "metadata": {
        "id": "2pu-OvVDDZdL",
        "colab_type": "code",
        "colab": {}
      },
      "source": [
        "list_pickle.close()"
      ],
      "execution_count": 0,
      "outputs": []
    },
    {
      "cell_type": "markdown",
      "metadata": {
        "id": "xM62cp_2Dwbe",
        "colab_type": "text"
      },
      "source": [
        "## Open the pkl file and use it "
      ]
    },
    {
      "cell_type": "code",
      "metadata": {
        "id": "vFzOLWmXDzDe",
        "colab_type": "code",
        "colab": {}
      },
      "source": [
        "list_pickle_path = 'list_pickle2.pkl'"
      ],
      "execution_count": 0,
      "outputs": []
    },
    {
      "cell_type": "code",
      "metadata": {
        "id": "daDA86ExD-ip",
        "colab_type": "code",
        "colab": {}
      },
      "source": [
        "list_unpickle = open(list_pickle_path, 'rb')"
      ],
      "execution_count": 0,
      "outputs": []
    },
    {
      "cell_type": "code",
      "metadata": {
        "id": "VZKUBjLUEG-f",
        "colab_type": "code",
        "colab": {}
      },
      "source": [
        "numbers_list = pickle.load(list_unpickle)"
      ],
      "execution_count": 0,
      "outputs": []
    },
    {
      "cell_type": "code",
      "metadata": {
        "id": "x1bXUqQpEQ4B",
        "colab_type": "code",
        "colab": {
          "base_uri": "https://localhost:8080/",
          "height": 34
        },
        "outputId": "898d7004-4246-4358-b2e6-d7abad7b2001"
      },
      "source": [
        "numbers_list"
      ],
      "execution_count": 11,
      "outputs": [
        {
          "output_type": "execute_result",
          "data": {
            "text/plain": [
              "[1, 2, 3, 4, 5]"
            ]
          },
          "metadata": {
            "tags": []
          },
          "execution_count": 11
        }
      ]
    }
  ]
}