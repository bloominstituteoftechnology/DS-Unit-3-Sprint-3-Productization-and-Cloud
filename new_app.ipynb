{
  "nbformat": 4,
  "nbformat_minor": 0,
  "metadata": {
    "colab": {
      "name": "new_app.ipynb",
      "version": "0.3.2",
      "provenance": [],
      "collapsed_sections": [],
      "include_colab_link": true
    },
    "kernelspec": {
      "name": "python3",
      "display_name": "Python 3"
    }
  },
  "cells": [
    {
      "cell_type": "markdown",
      "metadata": {
        "id": "view-in-github",
        "colab_type": "text"
      },
      "source": [
        "<a href=\"https://colab.research.google.com/github/AkiBae4891/DS-Unit-3-Sprint-3-Productization-and-Cloud/blob/master/new_app.ipynb\" target=\"_parent\"><img src=\"https://colab.research.google.com/assets/colab-badge.svg\" alt=\"Open In Colab\"/></a>"
      ]
    },
    {
      "cell_type": "markdown",
      "metadata": {
        "id": "htCjeHOrr_Qa",
        "colab_type": "text"
      },
      "source": [
        "#Won't run anything here"
      ]
    },
    {
      "cell_type": "code",
      "metadata": {
        "id": "ydEb8_RinZRK",
        "colab_type": "code",
        "colab": {}
      },
      "source": [
        "from flask import Flask # Instance of the class from the module itself.\n",
        "app = Flask(__name__) # create an instance of Flask\n",
        "\n",
        "@app.route('/') # Web page  (also referred to as an endpoint)\n",
        "def hello_world():\n",
        "    return 'Hello World'\n",
        "\n",
        "if __name__ == '__main__':\n",
        "    app.run()"
      ],
      "execution_count": 0,
      "outputs": []
    }
  ]
}