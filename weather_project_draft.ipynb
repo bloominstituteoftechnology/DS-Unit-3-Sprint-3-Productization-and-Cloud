{
  "nbformat": 4,
  "nbformat_minor": 0,
  "metadata": {
    "colab": {
      "name": "weather_project_draft.ipynb",
      "version": "0.3.2",
      "provenance": [],
      "collapsed_sections": [],
      "include_colab_link": true
    },
    "kernelspec": {
      "name": "python3",
      "display_name": "Python 3"
    }
  },
  "cells": [
    {
      "cell_type": "markdown",
      "metadata": {
        "id": "view-in-github",
        "colab_type": "text"
      },
      "source": [
        "<a href=\"https://colab.research.google.com/github/chefdarek/DS-Unit-3-Sprint-3-Productization-and-Cloud/blob/master/weather_project_draft.ipynb\" target=\"_parent\"><img src=\"https://colab.research.google.com/assets/colab-badge.svg\" alt=\"Open In Colab\"/></a>"
      ]
    },
    {
      "cell_type": "code",
      "metadata": {
        "id": "kQKUV3Y8mqwP",
        "colab_type": "code",
        "colab": {}
      },
      "source": [
        "import requests as rq\n",
        "import json\n",
        "import pandas as pd"
      ],
      "execution_count": 0,
      "outputs": []
    },
    {
      "cell_type": "code",
      "metadata": {
        "id": "xmM0ymik3VKd",
        "colab_type": "code",
        "colab": {}
      },
      "source": [
        "postal_code = '28697'\n",
        "start_date = '2019-07-23'\n",
        "end_date = '2019-07-24'\n",
        "key = '904458ff011f4487bf517666be16c1f6'"
      ],
      "execution_count": 0,
      "outputs": []
    },
    {
      "cell_type": "code",
      "metadata": {
        "id": "yzx-M_DOH4qs",
        "colab_type": "code",
        "colab": {}
      },
      "source": [
        "def next_day(date):\n",
        "  year, month, day = [int(num) for num in date.split(\"-\")]\n",
        "  #Reseting the year if it's december 31st\n",
        "  if month == 12 and day == 31:\n",
        "    year += 1\n",
        "    month = 1\n",
        "    day = 1\n",
        "  #Resetting the month for months with 31 days\n",
        "  elif month in[1, 3, 5, 7, 8, 10] and day == 31:\n",
        "    month += 1\n",
        "    day = 1\n",
        "  #Resetting the month for months with 30 days\n",
        "  elif month in[4, 6, 9, 11] and day == 30:\n",
        "    month += 1\n",
        "    day = 1\n",
        "  #Resetting the month for leap years\n",
        "  elif month == 2 and day == 29:\n",
        "    month += 1\n",
        "    day = 1\n",
        "  elif month == 2 and year not in [1992, 1996, 2000, 2004, 2008, 2012, 2016, 2020]:\n",
        "    day = 1\n",
        "    month += 1\n",
        "  else:\n",
        "    day += 1\n",
        "  next_date = str(year) + '-' + str(month) + '-' + str(day)\n",
        "  return next_date"
      ],
      "execution_count": 0,
      "outputs": []
    },
    {
      "cell_type": "code",
      "metadata": {
        "id": "4f8zrhwAu8R4",
        "colab_type": "code",
        "colab": {}
      },
      "source": [
        "response = rq.get(\"https://api.weatherbit.io/v2.0/history/daily?postal_code=29697&start_date=2019-7-15&end_date=2019-07-16&key=904458ff011f4487bf517666be16c1f6\")"
      ],
      "execution_count": 0,
      "outputs": []
    },
    {
      "cell_type": "code",
      "metadata": {
        "id": "EMsQCUxuvYD5",
        "colab_type": "code",
        "outputId": "c83dac39-b4d4-4b77-8272-3c2ca1ffc0b2",
        "colab": {
          "base_uri": "https://localhost:8080/",
          "height": 34
        }
      },
      "source": [
        "response.status_code"
      ],
      "execution_count": 0,
      "outputs": [
        {
          "output_type": "execute_result",
          "data": {
            "text/plain": [
              "200"
            ]
          },
          "metadata": {
            "tags": []
          },
          "execution_count": 14
        }
      ]
    },
    {
      "cell_type": "code",
      "metadata": {
        "id": "l_nENeQv01Np",
        "colab_type": "code",
        "colab": {}
      },
      "source": [
        "def create_and_populate_dataframe(num_days, postal_code, start_date, key):\n",
        "  #check if postal code and start date are strings\n",
        "  \n",
        "  #if type(postal_code) != str:\n",
        "   # postal_code = str(postal_code)\n",
        "  \n",
        "  #if type(start_date) != str:\n",
        "  #  start_date = str(start_date)\n",
        "    \n",
        "  #creating end date\n",
        "  end_date = next_day(start_date)\n",
        "  \n",
        "  #creating url\n",
        "  url = \"https://api.weatherbit.io/v2.0/history/daily?postal_code=\"+postal_code+\"&start_date=\"+start_date+\"&end_date=\"+end_date+\"&key=\"+str(key)\n",
        "  \n",
        "  #getting response from api and converting it to json\n",
        "  response = rq.get(url)\n",
        "  \n",
        "  if response.status_code == 200:\n",
        "    print(\"Success\")\n",
        "  else:\n",
        "    print(\"Failure\")\n",
        "  \n",
        "  json_data = response.json()\n",
        "  \n",
        "  #grabbing data needed\n",
        "  data = json_data['data'][0]\n",
        "  \n",
        "  #creating initial dataframe\n",
        "  df = pd.DataFrame(data, index = [0])\n",
        "  \n",
        "  #iterating through number of days\n",
        "  for day in range(num_days-1):\n",
        "    \n",
        "    #creating new start and end days\n",
        "    start_date = next_day(start_date)\n",
        "    end_date = next_day(end_date)\n",
        "    \n",
        "    #creating new url\n",
        "    url = \"https://api.weatherbit.io/v2.0/history/daily?postal_code=\"+postal_code+\"&start_date=\"+start_date+\"&end_date=\"+end_date+\"&key=\"+str(key)\n",
        "    \n",
        "    #grabbing new data\n",
        "    response = rq.get(url)\n",
        "    \n",
        "    if response.status_code == 200:\n",
        "      print(\"Success\")\n",
        "    else:\n",
        "      print(\"Failure\")\n",
        "    \n",
        "    json_data = response.json()\n",
        "    \n",
        "    data = json_data['data'][0]\n",
        "    \n",
        "    #creating new dataframe\n",
        "    new_df = pd.DataFrame(data, index = [0])\n",
        "    \n",
        "    #appending new df to old\n",
        "    df = df.append(new_df, ignore_index = True)\n",
        "\n",
        "  return df, dates   "
      ],
      "execution_count": 0,
      "outputs": []
    },
    {
      "cell_type": "code",
      "metadata": {
        "id": "8s3gvu2hfzx5",
        "colab_type": "code",
        "outputId": "75f44caa-f2f0-4446-9b09-aaab1d1450fa",
        "colab": {
          "base_uri": "https://localhost:8080/",
          "height": 160
        }
      },
      "source": [
        "df"
      ],
      "execution_count": 0,
      "outputs": [
        {
          "output_type": "execute_result",
          "data": {
            "text/html": [
              "<div>\n",
              "<style scoped>\n",
              "    .dataframe tbody tr th:only-of-type {\n",
              "        vertical-align: middle;\n",
              "    }\n",
              "\n",
              "    .dataframe tbody tr th {\n",
              "        vertical-align: top;\n",
              "    }\n",
              "\n",
              "    .dataframe thead th {\n",
              "        text-align: right;\n",
              "    }\n",
              "</style>\n",
              "<table border=\"1\" class=\"dataframe\">\n",
              "  <thead>\n",
              "    <tr style=\"text-align: right;\">\n",
              "      <th></th>\n",
              "      <th>rh</th>\n",
              "      <th>max_wind_spd_ts</th>\n",
              "      <th>t_ghi</th>\n",
              "      <th>max_wind_spd</th>\n",
              "      <th>wind_gust_spd</th>\n",
              "      <th>max_temp_ts</th>\n",
              "      <th>snow_depth</th>\n",
              "      <th>clouds</th>\n",
              "      <th>max_dni</th>\n",
              "      <th>precip_gpm</th>\n",
              "      <th>wind_spd</th>\n",
              "      <th>slp</th>\n",
              "      <th>ts</th>\n",
              "      <th>max_ghi</th>\n",
              "      <th>pres</th>\n",
              "      <th>dni</th>\n",
              "      <th>dewpt</th>\n",
              "      <th>snow</th>\n",
              "      <th>t_dhi</th>\n",
              "      <th>precip</th>\n",
              "      <th>wind_dir</th>\n",
              "      <th>max_dhi</th>\n",
              "      <th>ghi</th>\n",
              "      <th>max_temp</th>\n",
              "      <th>t_dni</th>\n",
              "      <th>max_uv</th>\n",
              "      <th>dhi</th>\n",
              "      <th>datetime</th>\n",
              "      <th>temp</th>\n",
              "      <th>min_temp</th>\n",
              "      <th>max_wind_dir</th>\n",
              "      <th>min_temp_ts</th>\n",
              "    </tr>\n",
              "  </thead>\n",
              "  <tbody>\n",
              "    <tr>\n",
              "      <th>0</th>\n",
              "      <td>86.9</td>\n",
              "      <td>1562792400</td>\n",
              "      <td>8542.3</td>\n",
              "      <td>2.6</td>\n",
              "      <td>2.6</td>\n",
              "      <td>1562792400</td>\n",
              "      <td>0</td>\n",
              "      <td>59</td>\n",
              "      <td>926.9</td>\n",
              "      <td>0.0</td>\n",
              "      <td>1.7</td>\n",
              "      <td>1079.4</td>\n",
              "      <td>1562731200</td>\n",
              "      <td>1007.2</td>\n",
              "      <td>970.8</td>\n",
              "      <td>445.3</td>\n",
              "      <td>21.8</td>\n",
              "      <td>0</td>\n",
              "      <td>1329.7</td>\n",
              "      <td>0.0</td>\n",
              "      <td>91</td>\n",
              "      <td>122.6</td>\n",
              "      <td>355.9</td>\n",
              "      <td>28.1</td>\n",
              "      <td>10686.8</td>\n",
              "      <td>9.9</td>\n",
              "      <td>55.4</td>\n",
              "      <td>2019-07-10</td>\n",
              "      <td>24.5</td>\n",
              "      <td>21.1</td>\n",
              "      <td>270</td>\n",
              "      <td>1562738400</td>\n",
              "    </tr>\n",
              "    <tr>\n",
              "      <th>1</th>\n",
              "      <td>96.9</td>\n",
              "      <td>1562878800</td>\n",
              "      <td>8529.0</td>\n",
              "      <td>4.6</td>\n",
              "      <td>4.6</td>\n",
              "      <td>1562868000</td>\n",
              "      <td>0</td>\n",
              "      <td>60</td>\n",
              "      <td>926.8</td>\n",
              "      <td>23.9</td>\n",
              "      <td>2.0</td>\n",
              "      <td>1075.9</td>\n",
              "      <td>1562817600</td>\n",
              "      <td>1006.5</td>\n",
              "      <td>967.4</td>\n",
              "      <td>444.9</td>\n",
              "      <td>22.7</td>\n",
              "      <td>0</td>\n",
              "      <td>1328.4</td>\n",
              "      <td>23.9</td>\n",
              "      <td>165</td>\n",
              "      <td>122.6</td>\n",
              "      <td>355.4</td>\n",
              "      <td>31.7</td>\n",
              "      <td>10676.8</td>\n",
              "      <td>8.2</td>\n",
              "      <td>55.3</td>\n",
              "      <td>2019-07-11</td>\n",
              "      <td>23.3</td>\n",
              "      <td>21.1</td>\n",
              "      <td>350</td>\n",
              "      <td>1562900400</td>\n",
              "    </tr>\n",
              "  </tbody>\n",
              "</table>\n",
              "</div>"
            ],
            "text/plain": [
              "     rh  max_wind_spd_ts   t_ghi  ...  min_temp  max_wind_dir  min_temp_ts\n",
              "0  86.9       1562792400  8542.3  ...      21.1           270   1562738400\n",
              "1  96.9       1562878800  8529.0  ...      21.1           350   1562900400\n",
              "\n",
              "[2 rows x 32 columns]"
            ]
          },
          "metadata": {
            "tags": []
          },
          "execution_count": 264
        }
      ]
    }
  ]
}