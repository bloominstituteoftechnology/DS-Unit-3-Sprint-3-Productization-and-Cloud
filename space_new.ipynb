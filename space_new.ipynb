{
  "nbformat": 4,
  "nbformat_minor": 0,
  "metadata": {
    "colab": {
      "name": "space_new.ipynb",
      "version": "0.3.2",
      "provenance": [],
      "collapsed_sections": [],
      "include_colab_link": true
    },
    "kernelspec": {
      "name": "python3",
      "display_name": "Python 3"
    }
  },
  "cells": [
    {
      "cell_type": "markdown",
      "metadata": {
        "id": "view-in-github",
        "colab_type": "text"
      },
      "source": [
        "<a href=\"https://colab.research.google.com/github/AkiBae4891/DS-Unit-3-Sprint-3-Productization-and-Cloud/blob/master/space_new.ipynb\" target=\"_parent\"><img src=\"https://colab.research.google.com/assets/colab-badge.svg\" alt=\"Open In Colab\"/></a>"
      ]
    },
    {
      "cell_type": "code",
      "metadata": {
        "id": "GYmhUsn8LP8V",
        "colab_type": "code",
        "colab": {}
      },
      "source": [
        "import requests as rq\n",
        "import json"
      ],
      "execution_count": 0,
      "outputs": []
    },
    {
      "cell_type": "code",
      "metadata": {
        "id": "D4JQf5MUTvpM",
        "colab_type": "code",
        "colab": {}
      },
      "source": [
        "response = rq.get('http://api.open-notify.org/iss-now.json')"
      ],
      "execution_count": 0,
      "outputs": []
    },
    {
      "cell_type": "code",
      "metadata": {
        "id": "RVr245g7UR2J",
        "colab_type": "code",
        "colab": {
          "base_uri": "https://localhost:8080/",
          "height": 34
        },
        "outputId": "c15dec56-a753-4834-ddc2-3901a05f5e72"
      },
      "source": [
        "print(response.status_code)"
      ],
      "execution_count": 4,
      "outputs": [
        {
          "output_type": "stream",
          "text": [
            "200\n"
          ],
          "name": "stdout"
        }
      ]
    },
    {
      "cell_type": "code",
      "metadata": {
        "id": "Ru-IdTMPUf59",
        "colab_type": "code",
        "colab": {
          "base_uri": "https://localhost:8080/",
          "height": 34
        },
        "outputId": "ce4d076e-1053-41ec-95d1-1a8d982271fd"
      },
      "source": [
        "print(response.text)"
      ],
      "execution_count": 5,
      "outputs": [
        {
          "output_type": "stream",
          "text": [
            "{\"message\": \"success\", \"iss_position\": {\"longitude\": \"146.1731\", \"latitude\": \"-51.3786\"}, \"timestamp\": 1566393315}\n"
          ],
          "name": "stdout"
        }
      ]
    },
    {
      "cell_type": "code",
      "metadata": {
        "id": "YtNeYe_fVTn6",
        "colab_type": "code",
        "colab": {}
      },
      "source": [
        "# see when it will be over our house ?\n",
        "parameters = {\"lat\": 28.793, \"lon\": -81.371}"
      ],
      "execution_count": 0,
      "outputs": []
    },
    {
      "cell_type": "code",
      "metadata": {
        "id": "yLLiyNPcW-jx",
        "colab_type": "code",
        "colab": {
          "base_uri": "https://localhost:8080/",
          "height": 34
        },
        "outputId": "4f265faf-4e1d-41b7-d473-7665f533bd8a"
      },
      "source": [
        "response_new = rq.get('http://api.open-notify.org/iss-now.json', params=parameters)\n",
        "print(response_new.text)"
      ],
      "execution_count": 11,
      "outputs": [
        {
          "output_type": "stream",
          "text": [
            "{\"message\": \"success\", \"iss_position\": {\"longitude\": \"-153.0528\", \"latitude\": \"-21.1861\"}, \"timestamp\": 1566394209}\n"
          ],
          "name": "stdout"
        }
      ]
    }
  ]
}