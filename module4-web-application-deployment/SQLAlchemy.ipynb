{
 "cells": [
  {
   "cell_type": "code",
   "execution_count": 1,
   "metadata": {},
   "outputs": [
    {
     "name": "stdout",
     "output_type": "stream",
     "text": [
      "Collecting flask_sqlalchemy\n",
      "  Downloading https://files.pythonhosted.org/packages/08/ca/582442cad71504a1514a2f053006c8bb128844133d6076a4df17117545fa/Flask_SQLAlchemy-2.4.0-py2.py3-none-any.whl\n",
      "Requirement already satisfied: Flask>=0.10 in /home/eric/anaconda3/lib/python3.7/site-packages (from flask_sqlalchemy) (1.0.2)\n",
      "Requirement already satisfied: SQLAlchemy>=0.8.0 in /home/eric/anaconda3/lib/python3.7/site-packages (from flask_sqlalchemy) (1.3.1)\n",
      "Requirement already satisfied: click>=5.1 in /home/eric/anaconda3/lib/python3.7/site-packages (from Flask>=0.10->flask_sqlalchemy) (7.0)\n",
      "Requirement already satisfied: itsdangerous>=0.24 in /home/eric/anaconda3/lib/python3.7/site-packages (from Flask>=0.10->flask_sqlalchemy) (1.1.0)\n",
      "Requirement already satisfied: Jinja2>=2.10 in /home/eric/anaconda3/lib/python3.7/site-packages (from Flask>=0.10->flask_sqlalchemy) (2.10)\n",
      "Requirement already satisfied: Werkzeug>=0.14 in /home/eric/anaconda3/lib/python3.7/site-packages (from Flask>=0.10->flask_sqlalchemy) (0.14.1)\n",
      "Requirement already satisfied: MarkupSafe>=0.23 in /home/eric/anaconda3/lib/python3.7/site-packages (from Jinja2>=2.10->Flask>=0.10->flask_sqlalchemy) (1.1.1)\n",
      "Installing collected packages: flask-sqlalchemy\n",
      "Successfully installed flask-sqlalchemy-2.4.0\n"
     ]
    }
   ],
   "source": [
    "!pip install flask_sqlalchemy"
   ]
  },
  {
   "cell_type": "code",
   "execution_count": 2,
   "metadata": {},
   "outputs": [],
   "source": [
    "from flask import Flask\n",
    "from flask_sqlalchemy import SQLAlchemy\n",
    "\n",
    "app = Flask(__name__)\n",
    "app.config['SQLALCHEMY_DATABASE_URI'] = 'sqlite:////tmp/test.db'\n",
    "db = SQLAlchemy(app)\n",
    "\n",
    "class User(db.Model):\n",
    "    id = db.Column(db.Integer, primary_key=True)\n",
    "    username = db.Column(db.String(80), unique=True, nullable=False)\n",
    "    email = db.Column(db.String(120), unique=True, nullable=False)\n",
    "    \n",
    "    def __repr__(self):\n",
    "        return '<User %r>' % self.username"
   ]
  },
  {
   "cell_type": "markdown",
   "metadata": {},
   "source": [
    "# Test"
   ]
  },
  {
   "cell_type": "code",
   "execution_count": 7,
   "metadata": {},
   "outputs": [],
   "source": [
    "import alchemy"
   ]
  },
  {
   "cell_type": "code",
   "execution_count": 8,
   "metadata": {},
   "outputs": [],
   "source": [
    "db.create_all()"
   ]
  },
  {
   "cell_type": "code",
   "execution_count": 9,
   "metadata": {},
   "outputs": [],
   "source": [
    "admin = User(username='admin', email='admin@example.com')"
   ]
  },
  {
   "cell_type": "code",
   "execution_count": 10,
   "metadata": {},
   "outputs": [],
   "source": [
    "guest = User(username='guest', email='guest@example.com')"
   ]
  },
  {
   "cell_type": "code",
   "execution_count": 11,
   "metadata": {},
   "outputs": [],
   "source": [
    "db.session.add(admin)\n",
    "db.session.add(guest)\n",
    "db.session.commit()"
   ]
  },
  {
   "cell_type": "code",
   "execution_count": 12,
   "metadata": {},
   "outputs": [
    {
     "data": {
      "text/plain": [
       "[<User 'admin'>, <User 'guest'>]"
      ]
     },
     "execution_count": 12,
     "metadata": {},
     "output_type": "execute_result"
    }
   ],
   "source": [
    "User.query.all()"
   ]
  },
  {
   "cell_type": "code",
   "execution_count": 13,
   "metadata": {},
   "outputs": [
    {
     "data": {
      "text/plain": [
       "<User 'admin'>"
      ]
     },
     "execution_count": 13,
     "metadata": {},
     "output_type": "execute_result"
    }
   ],
   "source": [
    "User.query.filter_by(username='admin').first()"
   ]
  },
  {
   "cell_type": "markdown",
   "metadata": {},
   "source": [
    "# SC Test"
   ]
  },
  {
   "cell_type": "code",
   "execution_count": 2,
   "metadata": {},
   "outputs": [],
   "source": [
    "from flask import Flask\n",
    "from flask_sqlalchemy import SQLAlchemy"
   ]
  },
  {
   "cell_type": "code",
   "execution_count": null,
   "metadata": {},
   "outputs": [],
   "source": []
  }
 ],
 "metadata": {
  "kernelspec": {
   "display_name": "Python 3",
   "language": "python",
   "name": "python3"
  },
  "language_info": {
   "codemirror_mode": {
    "name": "ipython",
    "version": 3
   },
   "file_extension": ".py",
   "mimetype": "text/x-python",
   "name": "python",
   "nbconvert_exporter": "python",
   "pygments_lexer": "ipython3",
   "version": "3.7.3"
  }
 },
 "nbformat": 4,
 "nbformat_minor": 2
}
