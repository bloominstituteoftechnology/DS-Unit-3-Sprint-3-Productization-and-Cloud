{
 "cells": [
  {
   "cell_type": "markdown",
   "metadata": {},
   "source": [
    "# /api Test"
   ]
  },
  {
   "cell_type": "code",
   "execution_count": 51,
   "metadata": {},
   "outputs": [],
   "source": [
    "import json\n",
    "import requests"
   ]
  },
  {
   "cell_type": "code",
   "execution_count": 52,
   "metadata": {},
   "outputs": [],
   "source": [
    "# Set URL\n",
    "url = \"http://127.0.0.1:5000/api\""
   ]
  },
  {
   "cell_type": "code",
   "execution_count": 53,
   "metadata": {},
   "outputs": [],
   "source": [
    "# Data for Class: 2\n",
    "data = json.dumps({'SepalLengthCm': 5.9,\n",
    "                   'SepalWidthCm': 3.5,\n",
    "                   'PetalLengthCm': 5.1,\n",
    "                   'PetalWidthCm': 1.8})"
   ]
  },
  {
   "cell_type": "code",
   "execution_count": 54,
   "metadata": {},
   "outputs": [
    {
     "name": "stdout",
     "output_type": "stream",
     "text": [
      "{'results': {'Prediction': 2}}\n"
     ]
    }
   ],
   "source": [
    "# Get Prediction\n",
    "send = requests.post(url, data)\n",
    "print(send.json())"
   ]
  },
  {
   "cell_type": "markdown",
   "metadata": {},
   "source": [
    "# /class_api Test"
   ]
  },
  {
   "cell_type": "code",
   "execution_count": 55,
   "metadata": {},
   "outputs": [],
   "source": [
    "# Set URL\n",
    "url = \"http://127.0.0.1:5000/class_api\""
   ]
  },
  {
   "cell_type": "code",
   "execution_count": 56,
   "metadata": {},
   "outputs": [],
   "source": [
    "# Data for Class: 'Iris-setosa'\n",
    "data = json.dumps({'SepalLengthCm': 5.1,\n",
    "                   'SepalWidthCm': 3.5,\n",
    "                   'PetalLengthCm': 1.4,\n",
    "                   'PetalWidthCm': 0.2})"
   ]
  },
  {
   "cell_type": "code",
   "execution_count": 57,
   "metadata": {},
   "outputs": [
    {
     "name": "stdout",
     "output_type": "stream",
     "text": [
      "{'results': {'Prediction': 'Iris-setosa'}}\n"
     ]
    }
   ],
   "source": [
    "# Get Prediction\n",
    "send = requests.post(url, data)\n",
    "print(send.json())"
   ]
  },
  {
   "cell_type": "markdown",
   "metadata": {},
   "source": [
    "# /medicare_cost Test"
   ]
  },
  {
   "cell_type": "code",
   "execution_count": 58,
   "metadata": {},
   "outputs": [],
   "source": [
    "# Set URL\n",
    "url = \"http://127.0.0.1:5000/medicare_costs\""
   ]
  },
  {
   "cell_type": "code",
   "execution_count": 59,
   "metadata": {},
   "outputs": [],
   "source": [
    "# Data for $1188\n",
    "data = json.dumps({'diagnosis': 'Circulatory',\n",
    "                   'state': 'AL'})"
   ]
  },
  {
   "cell_type": "code",
   "execution_count": 60,
   "metadata": {
    "scrolled": true
   },
   "outputs": [
    {
     "name": "stdout",
     "output_type": "stream",
     "text": [
      "{'results': {'Predicted Cost': 1188.2576145134278}}\n"
     ]
    }
   ],
   "source": [
    "send = requests.post(url, data)\n",
    "print(send.json())"
   ]
  }
 ],
 "metadata": {
  "kernelspec": {
   "display_name": "Python 3",
   "language": "python",
   "name": "python3"
  },
  "language_info": {
   "codemirror_mode": {
    "name": "ipython",
    "version": 3
   },
   "file_extension": ".py",
   "mimetype": "text/x-python",
   "name": "python",
   "nbconvert_exporter": "python",
   "pygments_lexer": "ipython3",
   "version": "3.7.3"
  }
 },
 "nbformat": 4,
 "nbformat_minor": 2
}
